{
 "cells": [
  {
   "cell_type": "code",
   "execution_count": null,
   "id": "b8cccb6c",
   "metadata": {},
   "outputs": [],
   "source": [
    "# assignment 1 working with python data types"
   ]
  },
  {
   "cell_type": "markdown",
   "id": "e4cac514",
   "metadata": {},
   "source": [
    "### Individual ASSIGNMENT ONE 2025"
   ]
  },
  {
   "cell_type": "markdown",
   "id": "7d35c382",
   "metadata": {},
   "source": [
    "## Exercise1 (Lists)\n",
    "1.\tCreate a list with 5 items (names of people) and write a python program to output the 2nd item.\n",
    "2.\tWrite a python program to change the value of the first item to a new value\n",
    "3.\tWrite a python program to add a sixth item to the list\n",
    "4.\tWrite a python program to add “Bathel” as the 3rd item in your list\n",
    "5.\tWrite a python program to remove the 4th item from the list\n",
    "6.\tUse negative indexing to print the last item in your list\n",
    "7.\tCreate a new list with 7 items and use a range of indexes to print the 3rd, 4th and 5th items.\n",
    "8.\tWrite a list of countries and make a copy of it.\n",
    "9.\tWrite a python program to loop through the list of countries\n",
    "10.\tWrite a list of animal names and sort them in both descending and ascending order.\n",
    "11.\tUsing the list above, write a python program to output only animal names with the letter ‘a’ in them\n",
    "12.\tWrite two lists, one containing your first names and the other your second names. Join the two lists.\n"
   ]
  },
  {
   "cell_type": "code",
   "execution_count": 1,
   "id": "3c06a8d7",
   "metadata": {},
   "outputs": [
    {
     "name": "stdout",
     "output_type": "stream",
     "text": [
      "ronaldo\n"
     ]
    }
   ],
   "source": [
    "names = [\"messi\", \"ronaldo\", \"neymar\", \"mbappe\", \"yamal\"]\n",
    "print(names[1])"
   ]
  },
  {
   "cell_type": "code",
   "execution_count": 2,
   "id": "4042e878",
   "metadata": {},
   "outputs": [],
   "source": [
    "names[0] = \"suarez\""
   ]
  },
  {
   "cell_type": "code",
   "execution_count": 3,
   "id": "bd88bbed",
   "metadata": {},
   "outputs": [],
   "source": [
    "names.append(\"pedri\")"
   ]
  },
  {
   "cell_type": "code",
   "execution_count": 4,
   "id": "5604075a",
   "metadata": {},
   "outputs": [],
   "source": [
    "names.insert(2, \"Bathel\")"
   ]
  },
  {
   "cell_type": "code",
   "execution_count": 5,
   "id": "530dc4b3",
   "metadata": {},
   "outputs": [
    {
     "data": {
      "text/plain": [
       "'neymar'"
      ]
     },
     "execution_count": 5,
     "metadata": {},
     "output_type": "execute_result"
    }
   ],
   "source": [
    "names.pop(3)"
   ]
  },
  {
   "cell_type": "code",
   "execution_count": 6,
   "id": "5bfd7441",
   "metadata": {},
   "outputs": [
    {
     "name": "stdout",
     "output_type": "stream",
     "text": [
      "pedri\n"
     ]
    }
   ],
   "source": [
    "print(names[-1])"
   ]
  },
  {
   "cell_type": "code",
   "execution_count": 7,
   "id": "a3bf6db9",
   "metadata": {},
   "outputs": [
    {
     "name": "stdout",
     "output_type": "stream",
     "text": [
      "3\n",
      "4\n"
     ]
    }
   ],
   "source": [
    "new_list = [1,2,3,4,5,6,7]\n",
    "for i in range(2, 4):\n",
    "    print(new_list[i])"
   ]
  },
  {
   "cell_type": "code",
   "execution_count": 8,
   "id": "001359a2",
   "metadata": {},
   "outputs": [
    {
     "name": "stdout",
     "output_type": "stream",
     "text": [
      "True\n"
     ]
    }
   ],
   "source": [
    "countries = [\"uganda\", \"kenya\", \"tanzania\", \"rwanda\", \"burundi\"]\n",
    "country_copy = countries.copy()\n",
    "\n",
    "assert country_copy == countries, \"The copied list is not the same as the original list\"\n",
    "print(country_copy == countries)"
   ]
  },
  {
   "cell_type": "code",
   "execution_count": 9,
   "id": "ea2eee9d",
   "metadata": {},
   "outputs": [
    {
     "name": "stdout",
     "output_type": "stream",
     "text": [
      "uganda\n",
      "kenya\n",
      "tanzania\n",
      "rwanda\n",
      "burundi\n"
     ]
    }
   ],
   "source": [
    "for i in countries:\n",
    "    print(i)"
   ]
  },
  {
   "cell_type": "code",
   "execution_count": 10,
   "id": "d3636bb6",
   "metadata": {},
   "outputs": [
    {
     "name": "stdout",
     "output_type": "stream",
     "text": [
      "descending: ['tiger', 'lion', 'elephant', 'bear']\n",
      "ascending: ['bear', 'elephant', 'lion', 'tiger']\n"
     ]
    }
   ],
   "source": [
    "animals = [\"lion\", \"tiger\", \"bear\", \"elephant\"]\n",
    "animals.sort(reverse=True)\n",
    "print(\"descending:\", animals)\n",
    "\n",
    "reverse_sorted = animals[::-1].copy()\n",
    "print(\"ascending:\", reverse_sorted)\n"
   ]
  },
  {
   "cell_type": "code",
   "execution_count": 11,
   "id": "3c5f8d97",
   "metadata": {},
   "outputs": [
    {
     "name": "stdout",
     "output_type": "stream",
     "text": [
      "elephant\n",
      "bear\n"
     ]
    }
   ],
   "source": [
    "for i in animals:\n",
    "    if \"a\" in i:\n",
    "        print(i)"
   ]
  },
  {
   "cell_type": "code",
   "execution_count": 12,
   "id": "125c6720",
   "metadata": {},
   "outputs": [
    {
     "name": "stdout",
     "output_type": "stream",
     "text": [
      "['jim', 'frank']\n"
     ]
    }
   ],
   "source": [
    "list_1 = [\"jim\"]\n",
    "list_2 = [\"frank\"]\n",
    "\n",
    "combined = list_1 + list_2\n",
    "print(combined)"
   ]
  },
  {
   "cell_type": "markdown",
   "id": "4db7040f",
   "metadata": {},
   "source": [
    "## Exercise2 (Tuples)\n",
    "1.\tConsider the tuple below;\n",
    "x = (“samsung”, “iphone”, “tecno”, “redmi”)\n",
    "\tWrite a python program to output your favorite phone brand.\n",
    "2.\tUse negative indexing to print the 2nd last item in your tuple. \n",
    "3.\tUsing the phones list above, write a python program to update “iphone” to “itel”\n",
    "4.\tWrite a python program to add “Huawei” to your tuple.\n",
    "5.\tWrite a python program to loop through the tuple above.\n",
    "6.\tWrite a python program to remove/delete the first item in your tuple.\n",
    "7.\tUsing the tuple() constructor, create a tuple of the cities in Uganda.\n",
    "8.\tWrite a python program to unpack your tuple.\n",
    "9.\tUse a range of indexes to print the 2nd, 3rd and 4th cities in your tuple above.\n",
    "10.\tWrite two tuples, one containing your first names and the other your second names. Join the two tuples.\n",
    "11.\tCreate a tuple of colors and multiply it by 3.\n",
    "12.\tReturn the number of times 8 appears in this tuple\n",
    "thistuple = (1, 3, 7, 8, 7, 5, 4, 6, 8, 5)\n"
   ]
  },
  {
   "cell_type": "code",
   "execution_count": 13,
   "id": "62b968fe",
   "metadata": {},
   "outputs": [
    {
     "name": "stdout",
     "output_type": "stream",
     "text": [
      "redmi\n"
     ]
    }
   ],
   "source": [
    "x = (\"samsung\", \"iphone\", \"tecno\", \"redmi\")\n",
    "print(x[-1])"
   ]
  },
  {
   "cell_type": "code",
   "execution_count": 14,
   "id": "5ba6e265",
   "metadata": {},
   "outputs": [
    {
     "name": "stdout",
     "output_type": "stream",
     "text": [
      "tecno\n"
     ]
    }
   ],
   "source": [
    "print(x[-2])"
   ]
  },
  {
   "cell_type": "code",
   "execution_count": 15,
   "id": "88efb03b",
   "metadata": {},
   "outputs": [
    {
     "name": "stdout",
     "output_type": "stream",
     "text": [
      "('samsung', 'itel', 'tecno', 'redmi')\n"
     ]
    }
   ],
   "source": [
    "list_x = list(x)\n",
    "list_x[1] = 'itel'\n",
    "x = tuple(list_x)\n",
    "print(x)"
   ]
  },
  {
   "cell_type": "code",
   "execution_count": null,
   "id": "2cb62ca6",
   "metadata": {},
   "outputs": [],
   "source": []
  },
  {
   "cell_type": "code",
   "execution_count": 16,
   "id": "c66b6ed3",
   "metadata": {},
   "outputs": [
    {
     "name": "stdout",
     "output_type": "stream",
     "text": [
      "('samsung', 'itel', 'tecno', 'redmi', 'Huawei')\n"
     ]
    }
   ],
   "source": [
    "b = list(x)\n",
    "b.append(\"Huawei\")\n",
    "x = tuple(b)\n",
    "print(x)"
   ]
  },
  {
   "cell_type": "code",
   "execution_count": 17,
   "id": "4a84fd40",
   "metadata": {},
   "outputs": [
    {
     "name": "stdout",
     "output_type": "stream",
     "text": [
      "samsung\n",
      "itel\n",
      "tecno\n",
      "redmi\n",
      "Huawei\n"
     ]
    }
   ],
   "source": [
    "for i in x:\n",
    "    print(i)"
   ]
  },
  {
   "cell_type": "code",
   "execution_count": 18,
   "id": "ae5dbe21",
   "metadata": {},
   "outputs": [
    {
     "data": {
      "text/plain": [
       "('itel', 'tecno', 'redmi', 'Huawei')"
      ]
     },
     "execution_count": 18,
     "metadata": {},
     "output_type": "execute_result"
    }
   ],
   "source": [
    "x = x[1:]\n",
    "x"
   ]
  },
  {
   "cell_type": "code",
   "execution_count": 19,
   "id": "f58755e9",
   "metadata": {},
   "outputs": [
    {
     "name": "stdout",
     "output_type": "stream",
     "text": [
      "('Kampala', 'gulu', 'mbarara', 'jinja', 'arua')\n"
     ]
    }
   ],
   "source": [
    "cities = tuple([\"Kampala\", \"gulu\", \"mbarara\", \"jinja\", \"arua\"])\n",
    "print(cities)"
   ]
  },
  {
   "cell_type": "code",
   "execution_count": 20,
   "id": "e491cc75",
   "metadata": {},
   "outputs": [
    {
     "name": "stdout",
     "output_type": "stream",
     "text": [
      "Kampala gulu mbarara jinja arua\n"
     ]
    }
   ],
   "source": [
    "k, g, m, j, a = cities\n",
    "print(k, g, m, j, a)"
   ]
  },
  {
   "cell_type": "code",
   "execution_count": 21,
   "id": "58b1f7b7",
   "metadata": {},
   "outputs": [
    {
     "name": "stdout",
     "output_type": "stream",
     "text": [
      "gulu\n",
      "mbarara\n",
      "jinja\n"
     ]
    }
   ],
   "source": [
    "for i in range(1, 4):\n",
    "    print(cities[i])"
   ]
  },
  {
   "cell_type": "code",
   "execution_count": 22,
   "id": "1c98f1d4",
   "metadata": {},
   "outputs": [
    {
     "name": "stdout",
     "output_type": "stream",
     "text": [
      "('jim', 'frank')\n"
     ]
    }
   ],
   "source": [
    "tuple_1 = (\"jim\", )\n",
    "tuple_2 = (\"frank\", )\n",
    "combined = tuple(list(tuple_1) + list(tuple_2))\n",
    "print(combined)"
   ]
  },
  {
   "cell_type": "code",
   "execution_count": 23,
   "id": "b30898b6",
   "metadata": {},
   "outputs": [
    {
     "data": {
      "text/plain": [
       "('red', 'blue', 'green', 'red', 'blue', 'green', 'red', 'blue', 'green')"
      ]
     },
     "execution_count": 23,
     "metadata": {},
     "output_type": "execute_result"
    }
   ],
   "source": [
    "colors = (\"red\", \"blue\", \"green\")\n",
    "colors * 3"
   ]
  },
  {
   "cell_type": "code",
   "execution_count": 24,
   "id": "9dc3bd8e",
   "metadata": {},
   "outputs": [
    {
     "name": "stdout",
     "output_type": "stream",
     "text": [
      "2\n"
     ]
    }
   ],
   "source": [
    "thistuple = (1, 3, 7, 8, 7, 5, 4, 6, 8, 5)\n",
    "print(thistuple.count(8))"
   ]
  },
  {
   "cell_type": "markdown",
   "id": "74fd6e05",
   "metadata": {},
   "source": [
    "## Exercise3 (Sets)\n",
    "1.\tUse the set() constructor to create a set of 3 of your favorite beverages.\n",
    "2.\tUse the correct method to add 2 more items to the beverages set.\n",
    "3.\tGiven the set below;\n",
    "mySet = {“oven”, “kettle”, “microwave”, “refrigerator”}\n",
    "Check if microwave is present in the set.\n",
    "4.\tWrite a python program to remove “kettle” from the set above.\n",
    "5.\tWrite a python program to loop through the set above.\n",
    "6.\tWrite a set of 4 items and a list of two items. Write a python program to add elements in the list to elements in the set.\n",
    "7.\tWrite two sets, one containing your ages and the other your first names. Join the two sets.\n"
   ]
  },
  {
   "cell_type": "code",
   "execution_count": 25,
   "id": "098b6e0b",
   "metadata": {},
   "outputs": [
    {
     "data": {
      "text/plain": [
       "{'bell', 'club', 'nile'}"
      ]
     },
     "execution_count": 25,
     "metadata": {},
     "output_type": "execute_result"
    }
   ],
   "source": [
    "bev = set([\"bell\", \"nile\", \"club\"])\n",
    "bev"
   ]
  },
  {
   "cell_type": "code",
   "execution_count": 26,
   "id": "57157971",
   "metadata": {},
   "outputs": [
    {
     "name": "stdout",
     "output_type": "stream",
     "text": [
      "{'tusker lite', 'bell', 'smirnoff', 'nile', 'club'}\n"
     ]
    }
   ],
   "source": [
    "bev.add(\"tusker lite\")\n",
    "bev.add(\"smirnoff\")\n",
    "print(bev)"
   ]
  },
  {
   "cell_type": "code",
   "execution_count": 27,
   "id": "f972415d",
   "metadata": {},
   "outputs": [
    {
     "name": "stdout",
     "output_type": "stream",
     "text": [
      "True\n"
     ]
    }
   ],
   "source": [
    "mySet = {\"oven\", \"kettle\", \"microwave\", \"refrigerator\"}\n",
    "print(\"microwave\" in mySet)"
   ]
  },
  {
   "cell_type": "code",
   "execution_count": 28,
   "id": "66239543",
   "metadata": {},
   "outputs": [
    {
     "name": "stdout",
     "output_type": "stream",
     "text": [
      "oven\n",
      "kettle\n",
      "microwave\n",
      "refrigerator\n"
     ]
    }
   ],
   "source": [
    "for i in mySet:\n",
    "    print(i)"
   ]
  },
  {
   "cell_type": "code",
   "execution_count": 29,
   "id": "b211c336",
   "metadata": {},
   "outputs": [
    {
     "data": {
      "text/plain": [
       "{1, 2, 3, 4, 5, 6}"
      ]
     },
     "execution_count": 29,
     "metadata": {},
     "output_type": "execute_result"
    }
   ],
   "source": [
    "set_1 = {1, 2, 3, 4}\n",
    "list_1 = [5, 6]\n",
    "\n",
    "set_1 = set_1.union(list_1)\n",
    "set_1"
   ]
  },
  {
   "cell_type": "code",
   "execution_count": 30,
   "id": "57f8d2f7",
   "metadata": {},
   "outputs": [
    {
     "data": {
      "text/plain": [
       "{100, 'jim'}"
      ]
     },
     "execution_count": 30,
     "metadata": {},
     "output_type": "execute_result"
    }
   ],
   "source": [
    "set_1 = {100, }\n",
    "set_2 = {\"jim\"}\n",
    "\n",
    "un = set_1.union(set_2)\n",
    "un"
   ]
  },
  {
   "cell_type": "markdown",
   "id": "057e7c76",
   "metadata": {},
   "source": [
    "## Exercise4 (Strings)\n",
    "1.\tDeclare two variables, an integer and a string and use the correct method to concatenate the two variables.\n",
    "2.\tConsider the example below;\n",
    "txt = “      Hello,       Uganda!       ”\n",
    "Output the string without spaces at the beginning, in the middle and at the end.\n",
    "3.\tWrite a python program to convert the value of ‘txt’ to uppercase.\n",
    "4.\tWrite a python program to replace character ‘U’ with ‘V’ in the string above.\n",
    "5.\tUsing the code below, write a python program to return a range of characters in the 2nd, 3rd and 4th position.\n",
    "y = “I am proudly Ugandan”\n",
    "6.\tThe piece of code below will give an error when output;\n",
    "x = “All “Data Scientists” are cool!” \n",
    "Write a python program to correct it.\n"
   ]
  },
  {
   "cell_type": "code",
   "execution_count": 31,
   "id": "6cf9c4ab",
   "metadata": {},
   "outputs": [
    {
     "data": {
      "text/plain": [
       "'a21'"
      ]
     },
     "execution_count": 31,
     "metadata": {},
     "output_type": "execute_result"
    }
   ],
   "source": [
    "a = \"a\"\n",
    "b = 21\n",
    "\n",
    "a + str(b)"
   ]
  },
  {
   "cell_type": "code",
   "execution_count": 32,
   "id": "ac0f5977",
   "metadata": {},
   "outputs": [],
   "source": [
    "txt = \"      Hello,       Uganda!       \"\n",
    "txt = txt.strip()"
   ]
  },
  {
   "cell_type": "code",
   "execution_count": 33,
   "id": "694b8073",
   "metadata": {},
   "outputs": [],
   "source": [
    "txt = txt.upper()"
   ]
  },
  {
   "cell_type": "code",
   "execution_count": 34,
   "id": "1c92f7cc",
   "metadata": {},
   "outputs": [
    {
     "data": {
      "text/plain": [
       "'HELLO,       VGANDA!'"
      ]
     },
     "execution_count": 34,
     "metadata": {},
     "output_type": "execute_result"
    }
   ],
   "source": [
    "txt.replace('U', 'V')"
   ]
  },
  {
   "cell_type": "code",
   "execution_count": 35,
   "id": "ab2a340a",
   "metadata": {},
   "outputs": [
    {
     "name": "stdout",
     "output_type": "stream",
     "text": [
      " am\n"
     ]
    }
   ],
   "source": [
    "y = \"I am proudly Ugandan\"\n",
    "\n",
    "\n",
    "print(y[1:4])"
   ]
  },
  {
   "cell_type": "code",
   "execution_count": 36,
   "id": "3a3f1aa9",
   "metadata": {},
   "outputs": [
    {
     "data": {
      "text/plain": [
       "'All \"Data Scientists\" are cool!'"
      ]
     },
     "execution_count": 36,
     "metadata": {},
     "output_type": "execute_result"
    }
   ],
   "source": [
    "x = \"All \\\"Data Scientists\\\" are cool!\"\n",
    "x"
   ]
  },
  {
   "cell_type": "markdown",
   "id": "c72265be",
   "metadata": {},
   "source": [
    "## Exercise5 (Dictionaries)\n",
    "1.\tWith reference to the dictionary below, write a python program to print the value of the shoe size. \n",
    "Add this dictionary to your .py file\n",
    "Shoes = {\n",
    "\t“brand” : “Nick”,\n",
    "\t“color” : “black”,\n",
    "\t“size” : 40\n",
    "\t}\n",
    "2.\tWrite a python program to change the value “Nick” to “Adidas”\n",
    "3.\tWrite a python program to add a key/value pair \"type”: \"sneakers\" to the dictionary\n",
    "4.\tWrite a python program to return a list of all the keys in the dictionary above.\n",
    "5.\tWrite a python program to return a list of all the values in the dictionary above.\n",
    "6.\tCheck if the key “size” exists in the dictionary above.\n",
    "7.\tWrite a python program to loop through the dictionary above.\n",
    "8.\tWrite a python program to remove “color” from the dictionary.\n",
    "9.\tWrite a python program to empty the dictionary above.\n",
    "10.\tWrite a dictionary of your choice and make a copy of it.\n",
    "11.\tWrite a python program to show nested dictionaries\n"
   ]
  },
  {
   "cell_type": "code",
   "execution_count": 37,
   "id": "a0599783",
   "metadata": {},
   "outputs": [
    {
     "name": "stdout",
     "output_type": "stream",
     "text": [
      "40\n"
     ]
    }
   ],
   "source": [
    "shoes = {\n",
    "    \"brand\": \"Nick\",\n",
    "    \"color\": \"black\",\n",
    "    \"size\": 40\n",
    "}\n",
    "\n",
    "print(shoes[\"size\"])"
   ]
  },
  {
   "cell_type": "code",
   "execution_count": 38,
   "id": "16f2da13",
   "metadata": {},
   "outputs": [],
   "source": [
    "shoes[\"brand\"] = \"Adidas\""
   ]
  },
  {
   "cell_type": "code",
   "execution_count": 39,
   "id": "d8eb8285",
   "metadata": {},
   "outputs": [],
   "source": [
    "shoes[\"type\"] = \"sneakers\""
   ]
  },
  {
   "cell_type": "code",
   "execution_count": 40,
   "id": "999a5f00",
   "metadata": {},
   "outputs": [
    {
     "data": {
      "text/plain": [
       "['brand', 'color', 'size', 'type']"
      ]
     },
     "execution_count": 40,
     "metadata": {},
     "output_type": "execute_result"
    }
   ],
   "source": [
    "list(shoes.keys())"
   ]
  },
  {
   "cell_type": "code",
   "execution_count": 41,
   "id": "82b7e412",
   "metadata": {},
   "outputs": [
    {
     "data": {
      "text/plain": [
       "['Adidas', 'black', 40, 'sneakers']"
      ]
     },
     "execution_count": 41,
     "metadata": {},
     "output_type": "execute_result"
    }
   ],
   "source": [
    "list(shoes.values())"
   ]
  },
  {
   "cell_type": "code",
   "execution_count": 42,
   "id": "65fb3408",
   "metadata": {},
   "outputs": [
    {
     "name": "stdout",
     "output_type": "stream",
     "text": [
      "True\n"
     ]
    }
   ],
   "source": [
    "print(\"size\" in shoes)"
   ]
  },
  {
   "cell_type": "code",
   "execution_count": 43,
   "id": "adf5a810",
   "metadata": {},
   "outputs": [
    {
     "name": "stdout",
     "output_type": "stream",
     "text": [
      "key =  brand , value =  Adidas\n",
      "key =  color , value =  black\n",
      "key =  size , value =  40\n",
      "key =  type , value =  sneakers\n"
     ]
    }
   ],
   "source": [
    "for key, value in shoes.items():\n",
    "    print(\"key = \", key, \", value = \", value)"
   ]
  },
  {
   "cell_type": "code",
   "execution_count": 44,
   "id": "dbe6471b",
   "metadata": {},
   "outputs": [
    {
     "data": {
      "text/plain": [
       "{'brand': 'Adidas', 'size': 40, 'type': 'sneakers'}"
      ]
     },
     "execution_count": 44,
     "metadata": {},
     "output_type": "execute_result"
    }
   ],
   "source": [
    "if \"color\" in shoes:\n",
    "    del shoes[\"color\"]\n",
    "shoes"
   ]
  },
  {
   "cell_type": "code",
   "execution_count": 45,
   "id": "c3c5079a",
   "metadata": {},
   "outputs": [],
   "source": [
    "for i in list(shoes.keys()):\n",
    "    if i in shoes:\n",
    "        del shoes[i]\n",
    "\n",
    "assert shoes == {}, \"not emptied\""
   ]
  },
  {
   "cell_type": "code",
   "execution_count": 46,
   "id": "5c848ec7",
   "metadata": {},
   "outputs": [
    {
     "data": {
      "text/plain": [
       "True"
      ]
     },
     "execution_count": 46,
     "metadata": {},
     "output_type": "execute_result"
    }
   ],
   "source": [
    "a = {\"a\": 5, \"b\": 1}\n",
    "b = a.copy()\n",
    "b == a"
   ]
  },
  {
   "cell_type": "code",
   "execution_count": 47,
   "id": "1b301f66",
   "metadata": {},
   "outputs": [
    {
     "name": "stdout",
     "output_type": "stream",
     "text": [
      "{'a': 2, 'b': {'x': 30, 'y': 40}}\n"
     ]
    }
   ],
   "source": [
    "nested = {\"a\": 2, \"b\": {\"x\": 30, \"y\": 40}}\n",
    "\n",
    "print(nested)"
   ]
  }
 ],
 "metadata": {
  "kernelspec": {
   "display_name": "mainfilm-backend-C4Iritlj",
   "language": "python",
   "name": "python3"
  },
  "language_info": {
   "codemirror_mode": {
    "name": "ipython",
    "version": 3
   },
   "file_extension": ".py",
   "mimetype": "text/x-python",
   "name": "python",
   "nbconvert_exporter": "python",
   "pygments_lexer": "ipython3",
   "version": "3.11.4"
  }
 },
 "nbformat": 4,
 "nbformat_minor": 5
}
