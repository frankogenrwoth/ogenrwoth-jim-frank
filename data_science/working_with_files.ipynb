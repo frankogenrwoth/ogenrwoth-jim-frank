{
 "cells": [
  {
   "cell_type": "code",
   "execution_count": null,
   "id": "91e74927",
   "metadata": {},
   "outputs": [],
   "source": []
  },
  {
   "cell_type": "code",
   "execution_count": null,
   "id": "cc8c3297",
   "metadata": {},
   "outputs": [],
   "source": [
    "# write to the current file\n",
    "with open(\"sample\", \"w\", encoding=\"utf-8\") as f:\n",
    "    f.write(\"I love python data science: line 1\\n\")\n",
    "    f.write(\"I love python data science: line 2\\n\")"
   ]
  },
  {
   "cell_type": "code",
   "execution_count": null,
   "id": "891359ab",
   "metadata": {},
   "outputs": [],
   "source": [
    "# modes for file opening:\n",
    "# 'r': read mode (default mode)\n",
    "# 'w': write mode this will overwrite the file if its already existing\n",
    "# 'b': binary mode is suitable for binary files and is best used for images e.t.c (python interpretes next line by converting \\n, \\r to and from \\n for platform compatibility this can corrupt binary files)\n",
    "# 'a': append mode will add the new content at the end of the file\n",
    "# 'x': exclusive creation mode will create a new file but will raise an error if the file already exists\n",
    "# 'rb+': read and write mode in binary\n",
    "# 'w+': read and write mode (overwrites the file if it exists)"
   ]
  },
  {
   "cell_type": "code",
   "execution_count": null,
   "id": "c1ba7772",
   "metadata": {},
   "outputs": [],
   "source": [
    "f = open(\"sample\", \"a\", encoding=\"utf-8\")"
   ]
  },
  {
   "cell_type": "code",
   "execution_count": null,
   "id": "deb36f2d",
   "metadata": {},
   "outputs": [],
   "source": [
    "f.tell()"
   ]
  },
  {
   "cell_type": "code",
   "execution_count": null,
   "id": "9f4025ac",
   "metadata": {},
   "outputs": [],
   "source": [
    "f.write(\"I love python data science: line 3\\n\")"
   ]
  },
  {
   "cell_type": "code",
   "execution_count": null,
   "id": "ae1f0257",
   "metadata": {},
   "outputs": [],
   "source": [
    "f.seek(0, 2)\n",
    "# whence: 0, 1, 2\n",
    "# 0: beginning of the file\n",
    "# 1: current position\n",
    "# 2: end of the file\n"
   ]
  },
  {
   "cell_type": "code",
   "execution_count": null,
   "id": "2dfc8310",
   "metadata": {},
   "outputs": [],
   "source": [
    "f.close()"
   ]
  },
  {
   "cell_type": "code",
   "execution_count": null,
   "id": "55548d07",
   "metadata": {},
   "outputs": [],
   "source": [
    "f = open(\"sample\", \"r\", encoding=\"utf-8\")\n",
    "for line in f:\n",
    "    print(line, end=\"\")  # end=\"\" to avoid adding extra new lines"
   ]
  },
  {
   "cell_type": "code",
   "execution_count": null,
   "id": "0048e97c",
   "metadata": {},
   "outputs": [],
   "source": [
    "f.seek(0, 2)  # move the cursor to the end of the file"
   ]
  },
  {
   "cell_type": "code",
   "execution_count": null,
   "id": "3d082497",
   "metadata": {},
   "outputs": [],
   "source": [
    "f.read()"
   ]
  }
 ],
 "metadata": {
  "kernelspec": {
   "display_name": "venv",
   "language": "python",
   "name": "python3"
  },
  "language_info": {
   "codemirror_mode": {
    "name": "ipython",
    "version": 3
   },
   "file_extension": ".py",
   "mimetype": "text/x-python",
   "name": "python",
   "nbconvert_exporter": "python",
   "pygments_lexer": "ipython3",
   "version": "3.11.4"
  }
 },
 "nbformat": 4,
 "nbformat_minor": 5
}
