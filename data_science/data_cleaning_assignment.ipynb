{
 "cells": [
  {
   "cell_type": "code",
   "execution_count": 29,
   "id": "b8f0e2ed",
   "metadata": {},
   "outputs": [],
   "source": [
    "import pandas as pd\n"
   ]
  },
  {
   "cell_type": "code",
   "execution_count": 30,
   "id": "c9fce12b",
   "metadata": {},
   "outputs": [],
   "source": [
    "dt = pd.read_csv(\"Mine.csv\")\n",
    "dt_sales = pd.read_csv(\"Sales.csv\")"
   ]
  },
  {
   "cell_type": "code",
   "execution_count": 31,
   "id": "3b792e05",
   "metadata": {},
   "outputs": [],
   "source": [
    "# handle missing values and empty cells\n",
    "dt.fillna(0, inplace=True)\n",
    "\n",
    "dt_sales.fillna(0, inplace=True)"
   ]
  },
  {
   "cell_type": "code",
   "execution_count": 32,
   "id": "926bd2df",
   "metadata": {},
   "outputs": [],
   "source": [
    "# handle inconsistent date with pandas.to_datetime\n",
    "dt['Date'] = pd.to_datetime(dt['Date'], errors='coerce')\n",
    "dt_sales['Order Date'] = pd.to_datetime(dt_sales['Order Date'], errors='coerce')"
   ]
  },
  {
   "cell_type": "code",
   "execution_count": 33,
   "id": "d5004ce4",
   "metadata": {},
   "outputs": [],
   "source": [
    "# handle duplicate rows with drop_duplicates\n",
    "dt.drop_duplicates(inplace=True)\n",
    "dt_sales.drop_duplicates(inplace=True)"
   ]
  },
  {
   "cell_type": "code",
   "execution_count": 34,
   "id": "af37ed75",
   "metadata": {},
   "outputs": [],
   "source": [
    "# handle wrong data (drop dt['Duration'][7] value is an outlier)\n",
    "dt = dt[dt['Duration'] <= 100]\n",
    "dt_sales = dt_sales[dt_sales['Quantity'] > 0]\n"
   ]
  },
  {
   "cell_type": "code",
   "execution_count": 35,
   "id": "807b5e41",
   "metadata": {},
   "outputs": [],
   "source": [
    "# drop unnecessary columns like Pulse\n",
    "dt.drop(columns=['Pulse'], inplace=True)\n",
    "dt_sales.drop(columns=[\"Customer Name\"], inplace=True)"
   ]
  },
  {
   "cell_type": "code",
   "execution_count": 36,
   "id": "4a37e97f",
   "metadata": {},
   "outputs": [
    {
     "name": "stdout",
     "output_type": "stream",
     "text": [
      "    Duration       Date  Maxpulse  Calories\n",
      "0         60 2023-10-01     130.0     409.1\n",
      "1         60 2023-10-02     145.0     479.0\n",
      "2         60 2023-10-03     135.0     340.3\n",
      "3         45 2023-10-04     175.0     282.4\n",
      "4         45 2023-10-05     150.0     405.1\n",
      "5         60 2023-10-06     125.0     300.0\n",
      "6         60 2023-10-07     135.0     374.0\n",
      "8         60 2023-10-09     126.0     193.8\n",
      "9         30 2023-10-10     147.0     234.8\n",
      "10        60 2023-10-11     129.0     375.3\n",
      "11        60 2023-10-12     131.0     345.6\n",
      "12        60 2023-10-13     136.0     239.2\n",
      "13        60 2023-10-15       0.0     240.8\n",
      "14        60 2023-10-15     100.0     240.8\n",
      "15        60 2023-10-16     101.0     243.8\n",
      "16        60 2023-10-17     102.0     380.2\n",
      "17        45        NaT     103.0     241.4\n",
      "18        60 2023-10-19     104.0       0.0\n",
      "19        60 2023-10-20     105.0     300.9\n",
      "20        60 2023-10-21     106.0     280.0\n",
      "21        60 2023-10-22     107.0       0.0\n",
      "22        60        NaT     108.0     230.8\n",
      "23        60 2023-10-24       0.0     239.7\n",
      "24        60 2023-10-25     110.0     236.9\n",
      "25        60 2023-10-26     118.0     278.8\n",
      "26        60 2023-10-27     119.0     212.9\n",
      "27        60 2023-10-28     121.0     345.9\n",
      "28        60 2023-10-29     122.0     345.2\n",
      "29        60        NaT     125.0     380.5\n",
      "30        60 2023-10-31     126.0       0.0\n",
      "   Order ID Order Date   Product  Quantity  Unit Price  Total Revenue\n",
      "0      1001 2024-01-01  Widget A      10.0        25.0          250.0\n",
      "1      1002 2024-01-02  Widget B       5.0        40.0          200.0\n",
      "3      1004 2024-04-01  Widget C       3.0         0.0          210.0\n",
      "4      1005        NaT  Widget B      10.0        40.0          400.0\n",
      "5      1006 2024-06-01  Widget A       4.0        25.0          100.0\n"
     ]
    }
   ],
   "source": [
    "# save the cleaned data to a new CSV file\n",
    "dt.to_csv(\"Cleaned_Mine.csv\", index=False)\n",
    "dt_sales.to_csv(\"Cleaned_Sales.csv\", index=False)\n",
    "# print the cleaned data\n",
    "print(dt)\n",
    "print(dt_sales)"
   ]
  },
  {
   "cell_type": "code",
   "execution_count": 37,
   "id": "190ae760",
   "metadata": {},
   "outputs": [
    {
     "name": "stdout",
     "output_type": "stream",
     "text": [
      "   Duration       Date  Maxpulse  Calories\n",
      "0        60 2023-10-01     130.0     409.1\n",
      "1        60 2023-10-02     145.0     479.0\n",
      "2        60 2023-10-03     135.0     340.3\n",
      "3        45 2023-10-04     175.0     282.4\n",
      "4        45 2023-10-05     150.0     405.1\n",
      "        Duration                 Date    Maxpulse    Calories\n",
      "count  30.000000                   27   30.000000   30.000000\n",
      "mean   57.500000  2023-10-15 11:33:20  114.700000  272.573333\n",
      "min    30.000000  2023-10-01 00:00:00    0.000000    0.000000\n",
      "25%    60.000000  2023-10-08 00:00:00  105.250000  237.475000\n",
      "50%    60.000000  2023-10-15 00:00:00  121.500000  279.400000\n",
      "75%    60.000000  2023-10-23 00:00:00  130.750000  345.825000\n",
      "max    60.000000  2023-10-31 00:00:00  175.000000  479.000000\n",
      "std     6.916996                  NaN   35.642042  115.715972\n"
     ]
    }
   ],
   "source": [
    "print(dt.head())\n",
    "print(dt.describe())"
   ]
  }
 ],
 "metadata": {
  "kernelspec": {
   "display_name": "venv",
   "language": "python",
   "name": "python3"
  },
  "language_info": {
   "codemirror_mode": {
    "name": "ipython",
    "version": 3
   },
   "file_extension": ".py",
   "mimetype": "text/x-python",
   "name": "python",
   "nbconvert_exporter": "python",
   "pygments_lexer": "ipython3",
   "version": "3.11.4"
  }
 },
 "nbformat": 4,
 "nbformat_minor": 5
}
